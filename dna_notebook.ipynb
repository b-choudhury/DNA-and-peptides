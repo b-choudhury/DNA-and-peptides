{
 "cells": [
  {
   "cell_type": "code",
   "execution_count": 1,
   "metadata": {},
   "outputs": [],
   "source": [
    "import pandas as pd\n",
    "import numpy as np"
   ]
  },
  {
   "cell_type": "code",
   "execution_count": 2,
   "metadata": {},
   "outputs": [
    {
     "name": "stderr",
     "output_type": "stream",
     "text": [
      "/opt/anaconda2/lib/python2.7/site-packages/IPython/core/interactiveshell.py:2714: DtypeWarning: Columns (1) have mixed types. Specify dtype option on import or set low_memory=False.\n",
      "  interactivity=interactivity, compiler=compiler, result=result)\n"
     ]
    }
   ],
   "source": [
    "df=pd.read_csv(\"genome_zeeshan_usmani.csv\")"
   ]
  },
  {
   "cell_type": "code",
   "execution_count": 3,
   "metadata": {},
   "outputs": [],
   "source": [
    "reads=np.array(df['genotype'])"
   ]
  },
  {
   "cell_type": "code",
   "execution_count": 4,
   "metadata": {},
   "outputs": [],
   "source": [
    "def overlap(a, b, min_length=3):\n",
    "    \"\"\" Return length of longest suffix of 'a' matching\n",
    "        a prefix of 'b' that is at least 'min_length'\n",
    "        characters long.  If no such overlap exists,\n",
    "        return 0. \"\"\"\n",
    "    start = 0  # start all the way at the left\n",
    "    while True:\n",
    "        start = a.find(b[:min_length], start)  # look for b's prefix in a\n",
    "        if start == -1:  # no more occurrences to right\n",
    "            return 0\n",
    "        # found occurrence; check for full suffix/prefix match\n",
    "        if b.startswith(a[start:]):\n",
    "            return len(a)-start\n",
    "        start += 1  # move just past previous match\n",
    "\n"
   ]
  },
  {
   "cell_type": "code",
   "execution_count": 5,
   "metadata": {},
   "outputs": [],
   "source": [
    "import itertools"
   ]
  },
  {
   "cell_type": "code",
   "execution_count": 6,
   "metadata": {},
   "outputs": [],
   "source": [
    "def pick_maximal_overlap(reads, k):\n",
    "    \"\"\" Return a pair of reads from the list with a\n",
    "        maximal suffix/prefix overlap >= k.  Returns\n",
    "        overlap length 0 if there are no such overlaps.\"\"\"\n",
    "    reada, readb = None, None\n",
    "    best_olen = 0\n",
    "    for a, b in itertools.permutations(reads, 2):\n",
    "        olen = overlap(a, b, min_length=k)\n",
    "        if olen > best_olen:\n",
    "            reada, readb = a, b\n",
    "            best_olen = olen\n",
    "    return reada, readb, best_olen"
   ]
  },
  {
   "cell_type": "code",
   "execution_count": 7,
   "metadata": {},
   "outputs": [],
   "source": [
    "def greedy_scs(reads, k):\n",
    "    \"\"\" Greedy shortest-common-superstring merge.\n",
    "        Repeat until no edges (overlaps of length >= k)\n",
    "        remain. \"\"\"\n",
    "    read_a, read_b, olen = pick_maximal_overlap(reads, k)\n",
    "    while olen > 0:\n",
    "        reads.remove(read_a)\n",
    "        reads.remove(read_b)\n",
    "        reads.append(read_a + read_b[olen:])\n",
    "        read_a, read_b, olen = pick_maximal_overlap(reads, k)\n",
    "    return ''.join(reads)"
   ]
  },
  {
   "cell_type": "code",
   "execution_count": 31,
   "metadata": {
    "scrolled": true
   },
   "outputs": [],
   "source": [
    "#genome = greedy_scs(reads,2)\n",
    "\n",
    "#Testing for a shorter fragment\n",
    "\n",
    "genome='ACTTAGACCGGTTATACCCACAATATACCAATTTGGCCCTTAAAAGGTTAGGATACATAGGATACATAGGATACATAGATTACATAGATTACATAGGGACATTAGGAAAATACCAGGATATATACAGTAACGTACATGACAGATCAGTAGCATGGATC'"
   ]
  },
  {
   "cell_type": "code",
   "execution_count": 32,
   "metadata": {},
   "outputs": [],
   "source": [
    "def de_bruijn_ize(st, k):\n",
    "    \"\"\" Return a list holding, for each k-mer, its left\n",
    "        k-1-mer and its right k-1-mer in a pair \"\"\"\n",
    "    edges = []\n",
    "    nodes = set()\n",
    "    for i in range(len(st) - k + 1):\n",
    "        edges.append((st[i:i+k-1], st[i+1:i+k]))\n",
    "        nodes.add(st[i:i+k-1])\n",
    "        nodes.add(st[i+1:i+k])\n",
    "    return nodes, edges"
   ]
  },
  {
   "cell_type": "code",
   "execution_count": 33,
   "metadata": {},
   "outputs": [],
   "source": [
    "nodes, edges = de_bruijn_ize(genome, 8)"
   ]
  },
  {
   "cell_type": "code",
   "execution_count": 34,
   "metadata": {},
   "outputs": [],
   "source": [
    "lines=np.array(list(nodes))"
   ]
  },
  {
   "cell_type": "code",
   "execution_count": 35,
   "metadata": {},
   "outputs": [],
   "source": [
    "import scipy.io\n",
    "\n",
    "from numpy import argmax\n",
    "\n",
    "X=[]\n",
    "\n",
    "for i in range(0,len(lines)):\n",
    "    \n",
    "    data=lines[i]\n",
    "    alphabet = 'ARNDCQEGHILKMFPSTWYVX'\n",
    "# define a mapping of chars to integers\n",
    "    char_to_int = dict((c, i) for i, c in enumerate(alphabet))\n",
    "    int_to_char = dict((i, c) for i, c in enumerate(alphabet))\n",
    "# integer encode input data\n",
    "    integer_encoded = [char_to_int[char] for char in data]\n",
    "    X.append(integer_encoded)\n",
    "\n",
    "X=np.array(X)"
   ]
  },
  {
   "cell_type": "code",
   "execution_count": 36,
   "metadata": {},
   "outputs": [],
   "source": [
    "from sklearn.cluster import KMeans"
   ]
  },
  {
   "cell_type": "code",
   "execution_count": 37,
   "metadata": {},
   "outputs": [],
   "source": [
    "#PCA for Kmeans\n",
    "from sklearn.decomposition import PCA\n",
    "pca = PCA(n_components=2)\n",
    "principalComponents = pca.fit_transform(X)"
   ]
  },
  {
   "cell_type": "code",
   "execution_count": 42,
   "metadata": {},
   "outputs": [],
   "source": [
    "#Kmeans\n",
    "kmeans = KMeans(n_clusters=30, random_state=0).fit(principalComponents)\n",
    "\n",
    "y_kmeans=kmeans.predict(principalComponents)"
   ]
  },
  {
   "cell_type": "code",
   "execution_count": 43,
   "metadata": {},
   "outputs": [
    {
     "data": {
      "image/png": "[encoded data removed]",
      "text/plain": [
       "<Figure size 432x288 with 1 Axes>"
      ]
     },
     "metadata": {
      "needs_background": "light"
     },
     "output_type": "display_data"
    }
   ],
   "source": [
    "import matplotlib.pyplot as plt\n",
    "plt.scatter(principalComponents[:, 0], principalComponents[:, 1], c=y_kmeans, s=50, cmap='viridis')\n",
    "\n",
    "centers = kmeans.cluster_centers_\n",
    "plt.scatter(centers[:, 0], centers[:, 1], c='black', s=200, alpha=0.5);\n",
    "plt.show()"
   ]
  },
  {
   "cell_type": "code",
   "execution_count": 48,
   "metadata": {},
   "outputs": [],
   "source": [
    "#Nearest neighbors\n",
    "\n",
    "from sklearn.neighbors import NearestNeighbors\n",
    "nbrs = NearestNeighbors(n_neighbors=3, algorithm='ball_tree').fit(principalComponents)"
   ]
  },
  {
   "cell_type": "code",
   "execution_count": 49,
   "metadata": {},
   "outputs": [],
   "source": [
    "distances, indices = nbrs.kneighbors(principalComponents)"
   ]
  },
  {
   "cell_type": "code",
   "execution_count": 50,
   "metadata": {},
   "outputs": [
    {
     "data": {
      "text/plain": [
       "array([[  0,  92, 120],\n",
       "       [  1,  43,  41],\n",
       "       [  2, 112,  29],\n",
       "       [  3,  65, 106],\n",
       "       [  4,  11,  66],\n",
       "       [  5,  12,  26],\n",
       "       [  6,  86,  75],\n",
       "       [  7, 119,  68],\n",
       "       [  8,  63, 114],\n",
       "       [  9,  14, 117],\n",
       "       [ 10,  65,   3],\n",
       "       [ 11,  66,   4],\n",
       "       [ 12,  26,   5],\n",
       "       [ 13,  84,  19],\n",
       "       [ 14,   9, 117],\n",
       "       [ 15,  22,  94],\n",
       "       [ 16,  52, 100],\n",
       "       [ 17,  31,  67],\n",
       "       [ 18,  57,  55],\n",
       "       [ 19,  84,  51],\n",
       "       [ 20, 104,  24],\n",
       "       [ 21, 115, 102],\n",
       "       [ 22,  15,  94],\n",
       "       [ 23,  91,  71],\n",
       "       [ 24,  20,  62],\n",
       "       [ 25, 108,   3],\n",
       "       [ 26,  12,  74],\n",
       "       [ 27,  64, 122],\n",
       "       [ 28, 100,  36],\n",
       "       [ 29, 112,   2],\n",
       "       [ 30, 116,  93],\n",
       "       [ 31,  17,  87],\n",
       "       [ 32,  81,   8],\n",
       "       [ 33, 123,  70],\n",
       "       [ 34,  37,  83],\n",
       "       [ 35, 109,  42],\n",
       "       [ 36,  28, 100],\n",
       "       [ 37,  34,  83],\n",
       "       [ 38, 112,  29],\n",
       "       [ 39, 119,  50],\n",
       "       [ 40,  63,   8],\n",
       "       [ 41,  43,   1],\n",
       "       [ 42, 105,  35],\n",
       "       [ 43,   1,  41],\n",
       "       [ 44,  76, 104],\n",
       "       [ 45,  75, 107],\n",
       "       [ 46, 121,  13],\n",
       "       [ 47,  96,  13],\n",
       "       [ 48,  77, 106],\n",
       "       [ 49,  69, 110],\n",
       "       [ 50,  85,  39],\n",
       "       [ 51,  84,  19],\n",
       "       [ 52, 105,  16],\n",
       "       [ 53,  66,  11],\n",
       "       [ 54,  97,  55],\n",
       "       [ 55, 124,  57],\n",
       "       [ 56,  60,  82],\n",
       "       [ 57,  18, 124],\n",
       "       [ 58, 101, 120],\n",
       "       [ 59,  61,  90],\n",
       "       [ 60,  89, 117],\n",
       "       [ 61,  59,  90],\n",
       "       [ 62,  24,  20],\n",
       "       [ 63,   8,  40],\n",
       "       [ 64, 103, 101],\n",
       "       [ 65,   3,  10],\n",
       "       [ 66,  11,  53],\n",
       "       [ 67,  17,  31],\n",
       "       [ 68,   7, 119],\n",
       "       [ 69,  49,  42],\n",
       "       [ 70, 123, 125],\n",
       "       [ 71,  23,  91],\n",
       "       [ 72,  93,  61],\n",
       "       [ 73,  78,  90],\n",
       "       [ 74,  26,  12],\n",
       "       [ 75,  45,  86],\n",
       "       [ 76,  44, 102],\n",
       "       [ 77,  48, 106],\n",
       "       [ 78,  73, 123],\n",
       "       [ 79,  27,  64],\n",
       "       [ 80,  83,  34],\n",
       "       [ 81,  82,  32],\n",
       "       [ 82,  81,  60],\n",
       "       [ 83,  67,  80],\n",
       "       [ 84,  19,  51],\n",
       "       [ 85,  50,   2],\n",
       "       [ 86,  75,   6],\n",
       "       [ 87,  22,  15],\n",
       "       [ 88, 111, 109],\n",
       "       [ 89, 117,  14],\n",
       "       [ 90,  59,  61],\n",
       "       [ 91,  23,  71],\n",
       "       [ 92,   0, 120],\n",
       "       [ 93,  30,  72],\n",
       "       [ 94,  15,  22],\n",
       "       [ 95,  91,  23],\n",
       "       [ 96,  47,  13],\n",
       "       [ 97,  99, 121],\n",
       "       [ 98, 105,  42],\n",
       "       [ 99,  97, 121],\n",
       "       [100,  28,  16],\n",
       "       [101,  58, 103],\n",
       "       [102,  21, 115],\n",
       "       [103,  64, 101],\n",
       "       [104,  20,  44],\n",
       "       [105,  98,  42],\n",
       "       [106,   3,  25],\n",
       "       [107,  45,  75],\n",
       "       [108, 110,  25],\n",
       "       [109,  35, 116],\n",
       "       [110,  49, 108],\n",
       "       [111,  88, 116],\n",
       "       [112,  29,   2],\n",
       "       [113,  21, 115],\n",
       "       [114,   8,  63],\n",
       "       [115,  21, 102],\n",
       "       [116, 111, 109],\n",
       "       [117,  89,   9],\n",
       "       [118,  76,  44],\n",
       "       [119,  39,   7],\n",
       "       [120,  92,   0],\n",
       "       [121,  46,  97],\n",
       "       [122, 125,   0],\n",
       "       [123,  70,  78],\n",
       "       [124,  38,  55],\n",
       "       [125, 122,   0]])"
      ]
     },
     "execution_count": 50,
     "metadata": {},
     "output_type": "execute_result"
    }
   ],
   "source": [
    "indices"
   ]
  },
  {
   "cell_type": "code",
   "execution_count": 52,
   "metadata": {},
   "outputs": [
    {
     "data": {
      "text/plain": [
       "24"
      ]
     },
     "execution_count": 52,
     "metadata": {},
     "output_type": "execute_result"
    }
   ],
   "source": [
    "kmeans.labels_[117]"
   ]
  },
  {
   "cell_type": "code",
   "execution_count": null,
   "metadata": {},
   "outputs": [],
   "source": []
  }
 ],
 "metadata": {
  "kernelspec": {
   "display_name": "Python 2",
   "language": "python",
   "name": "python2"
  },
  "language_info": {
   "codemirror_mode": {
    "name": "ipython",
    "version": 2
   },
   "file_extension": ".py",
   "mimetype": "text/x-python",
   "name": "python",
   "nbconvert_exporter": "python",
   "pygments_lexer": "ipython2",
   "version": "2.7.16"
  }
 },
 "nbformat": 4,
 "nbformat_minor": 2
}
