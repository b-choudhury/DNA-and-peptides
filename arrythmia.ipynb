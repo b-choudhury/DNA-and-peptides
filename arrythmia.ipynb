{
 "cells": [
  {
   "cell_type": "code",
   "execution_count": 1,
   "metadata": {},
   "outputs": [],
   "source": [
    "#PTB diagnostic ECG database\n",
    "\n",
    "import pandas as pd\n",
    "import numpy as np"
   ]
  },
  {
   "cell_type": "code",
   "execution_count": 2,
   "metadata": {},
   "outputs": [],
   "source": [
    "normal_df=pd.read_csv(\"ptbdb_normal.csv\")\n",
    "abnormal_df=pd.read_csv(\"ptbdb_abnormal.csv\")"
   ]
  },
  {
   "cell_type": "code",
   "execution_count": 3,
   "metadata": {},
   "outputs": [],
   "source": [
    "normal=[]\n",
    "abnormal=[]\n",
    "train=[]\n",
    "test=[]\n",
    "\n",
    "for column in normal_df:\n",
    "   normal.append(normal_df[column])\n",
    "\n",
    "for column in abnormal_df:\n",
    "   abnormal.append(abnormal_df[column])"
   ]
  },
  {
   "cell_type": "code",
   "execution_count": 4,
   "metadata": {},
   "outputs": [],
   "source": [
    "normal_padded=[]\n",
    "diff=np.array(abnormal).shape[1]-np.array(normal).shape[1]\n",
    "for i in range(0,np.array(normal).shape[0]):\n",
    "  normal_padded.append((np.pad(np.array(normal[i]),(0,diff),'constant')))"
   ]
  },
  {
   "cell_type": "code",
   "execution_count": 5,
   "metadata": {},
   "outputs": [],
   "source": [
    "X=[]\n",
    "for i in range(0,np.array(normal).shape[0]):\n",
    "    X.append(normal_padded[i])\n",
    "    \n",
    "for i in range(0,np.array(normal).shape[0]):\n",
    "    X.append(abnormal[i])\n",
    "    \n",
    "X=np.array(X)    "
   ]
  },
  {
   "cell_type": "code",
   "execution_count": 6,
   "metadata": {
    "scrolled": true
   },
   "outputs": [],
   "source": [
    "positives=np.zeros(np.array(normal).shape[0])\n",
    "negatives=np.ones(np.array(normal).shape[0])\n",
    "\n",
    "y=[]\n",
    "\n",
    "for i in range(0,np.array(positives).shape[0]):\n",
    "    y.append(positives[i])\n",
    "    \n",
    "for i in range(0,np.array(negatives).shape[0]):\n",
    "    y.append(negatives[i])"
   ]
  },
  {
   "cell_type": "code",
   "execution_count": 7,
   "metadata": {
    "scrolled": true
   },
   "outputs": [],
   "source": [
    "import numpy as np\n",
    "from sklearn.model_selection import train_test_split\n",
    "\n",
    "X_train, X_test, y_train, y_test = train_test_split(X, y, test_size=0.65, random_state=42)"
   ]
  },
  {
   "cell_type": "code",
   "execution_count": 8,
   "metadata": {},
   "outputs": [
    {
     "data": {
      "text/plain": [
       "SVC(C=1.0, cache_size=200, class_weight=None, coef0=0.0,\n",
       "  decision_function_shape='ovr', degree=3, gamma='auto_deprecated',\n",
       "  kernel='linear', max_iter=-1, probability=False, random_state=None,\n",
       "  shrinking=True, tol=0.001, verbose=False)"
      ]
     },
     "execution_count": 8,
     "metadata": {},
     "output_type": "execute_result"
    }
   ],
   "source": [
    "from sklearn import svm\n",
    "\n",
    "#Create a svm Classifier\n",
    "clf = svm.SVC(kernel='linear') # Linear Kernel\n",
    "\n",
    "#Train the model using the training sets\n",
    "clf.fit(X_train, y_train)"
   ]
  },
  {
   "cell_type": "code",
   "execution_count": 9,
   "metadata": {},
   "outputs": [],
   "source": [
    "y_pred = clf.predict(X_test)"
   ]
  },
  {
   "cell_type": "code",
   "execution_count": 10,
   "metadata": {},
   "outputs": [],
   "source": [
    "test_accuracy = np.mean(y_pred==y_test)"
   ]
  },
  {
   "cell_type": "code",
   "execution_count": 11,
   "metadata": {
    "scrolled": false
   },
   "outputs": [
    {
     "name": "stdout",
     "output_type": "stream",
     "text": [
      "(99.18367346938776, '%')\n"
     ]
    }
   ],
   "source": [
    "print(test_accuracy*100,'%')"
   ]
  }
 ],
 "metadata": {
  "kernelspec": {
   "display_name": "Python 2",
   "language": "python",
   "name": "python2"
  },
  "language_info": {
   "codemirror_mode": {
    "name": "ipython",
    "version": 2
   },
   "file_extension": ".py",
   "mimetype": "text/x-python",
   "name": "python",
   "nbconvert_exporter": "python",
   "pygments_lexer": "ipython2",
   "version": "2.7.16"
  }
 },
 "nbformat": 4,
 "nbformat_minor": 2
}
