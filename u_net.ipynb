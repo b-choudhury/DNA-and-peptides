{
 "cells": [
  {
   "cell_type": "code",
   "execution_count": 9,
   "metadata": {},
   "outputs": [],
   "source": [
    "#based on https://www.kaggle.com/keegil/keras-u-net-starter-lb-0-277\n",
    "#https://www.kaggle.com/c/ultrasound-nerve-segmentation/overview\n",
    "\n",
    "\n",
    "import os\n",
    "import numpy as np\n",
    "\n",
    "from skimage.io import imsave, imread\n",
    "from skimage import transform\n",
    "\n",
    "def load_data(datadir):\n",
    "    train_data_path = os.path.join(\"\", datadir)\n",
    "    images = os.listdir(train_data_path)\n",
    "    \n",
    "\n",
    "    imgs = []\n",
    "    imgs_mask = []\n",
    "\n",
    " \n",
    "    for image_name in images:\n",
    "        if 'mask' in image_name:\n",
    "            continue\n",
    "        image_mask_name = image_name.split('.')[0] + '_mask.tif'\n",
    "        img = imread(os.path.join(train_data_path, image_name))\n",
    "        img_mask = imread(os.path.join(train_data_path, image_mask_name))\n",
    "\n",
    "        img = np.array([img])\n",
    "        img_mask = np.array([img_mask])\n",
    "        \n",
    "\n",
    "        imgs.append(img)\n",
    "        imgs_mask.append(img_mask)\n",
    "        \n",
    "        \n",
    "        \n",
    "        \n",
    "    imgs_mask=np.array(imgs_mask)\n",
    "    imgs=np.array(imgs)\n",
    "        \n",
    "    \n",
    "    return imgs,imgs_mask"
   ]
  },
  {
   "cell_type": "code",
   "execution_count": 7,
   "metadata": {},
   "outputs": [
    {
     "name": "stderr",
     "output_type": "stream",
     "text": [
      "/opt/anaconda3/lib/python3.7/site-packages/skimage/external/tifffile/tifffile.py:2618: RuntimeWarning: py_decodelzw encountered unexpected end of stream\n",
      "  strip = decompress(strip)\n"
     ]
    }
   ],
   "source": [
    "images,masks=load_data('train')\n",
    "test=load_data('test')"
   ]
  },
  {
   "cell_type": "code",
   "execution_count": 25,
   "metadata": {},
   "outputs": [],
   "source": [
    "images=np.array(images)\n",
    "masks=np.array(masks)\n",
    "test=np.array(test)"
   ]
  },
  {
   "cell_type": "code",
   "execution_count": 18,
   "metadata": {},
   "outputs": [],
   "source": [
    "images_train=[transform.resize(img,(64,64,1)) for img in images]\n",
    "masks_train=[transform.resize(img,(64,64,1)) for img in masks]"
   ]
  },
  {
   "cell_type": "code",
   "execution_count": 50,
   "metadata": {},
   "outputs": [],
   "source": [
    "import os\n",
    "import sys\n",
    "import random\n",
    "import warnings\n",
    "\n",
    "import numpy as np\n",
    "import pandas as pd\n",
    "\n",
    "import matplotlib.pyplot as plt\n",
    "\n",
    "from tqdm import tqdm\n",
    "from itertools import chain\n",
    "from skimage.io import imread, imshow, imread_collection, concatenate_images\n",
    "from skimage.transform import resize\n",
    "from skimage.morphology import label\n",
    "\n",
    "from keras.models import Model, load_model\n",
    "from keras.layers import Input\n",
    "from keras.layers.core import Dropout, Lambda\n",
    "from keras.layers import BatchNormalization\n",
    "from keras.layers.convolutional import Conv2D, Conv2DTranspose\n",
    "from keras.layers.pooling import MaxPooling2D\n",
    "from keras.layers.merge import concatenate\n",
    "from keras.callbacks import EarlyStopping, ModelCheckpoint\n",
    "from keras import backend as K\n",
    "\n",
    "import tensorflow as tf"
   ]
  },
  {
   "cell_type": "code",
   "execution_count": 52,
   "metadata": {},
   "outputs": [],
   "source": [
    "inputs = Input(images[0].shape)\n",
    "conv1 = Conv2D(32, (3, 3), activation='relu', padding='same')(inputs)\n",
    "conv1 = Conv2D(32, (3, 3), activation='relu', padding='same')(conv1)\n",
    "conv1=BatchNormalization()(conv1)\n",
    "pool1 = MaxPooling2D(pool_size=(2, 2))(conv1)\n",
    "\n",
    "conv2 = Conv2D(64, (3, 3), activation='relu', padding='same')(pool1)\n",
    "conv2 = Conv2D(64, (3, 3), activation='relu', padding='same')(conv2)\n",
    "conv2=BatchNormalization()(conv2)\n",
    "pool2 = MaxPooling2D(pool_size=(2, 2))(conv2)\n",
    "\n",
    "conv3 = Conv2D(128, (3, 3), activation='relu', padding='same')(pool2)\n",
    "conv3 = Conv2D(128, (3, 3), activation='relu', padding='same')(conv3)\n",
    "conv3=BatchNormalization()(conv3)\n",
    "pool3 = MaxPooling2D(pool_size=(2, 2))(conv3)\n",
    "\n",
    "conv4 = Conv2D(256, (3, 3), activation='relu', padding='same')(pool3)\n",
    "conv4 = Conv2D(256, (3, 3), activation='relu', padding='same')(conv4)\n",
    "conv4=BatchNormalization()(conv4)\n",
    "pool4 = MaxPooling2D(pool_size=(2, 2))(conv4)\n",
    "\n",
    "conv5 = Conv2D(512, (3, 3), activation='relu', padding='same')(pool4)\n",
    "conv5 = Conv2D(512, (3, 3), activation='relu', padding='same')(conv5)\n",
    "\n",
    "up6 = concatenate([Conv2DTranspose(256, (2, 2), strides=(2, 2), padding='same')(conv5), conv4], axis=3)\n",
    "conv6 = Conv2D(256, (3, 3), activation='relu', padding='same')(up6)\n",
    "conv6 = Conv2D(256, (3, 3), activation='relu', padding='same')(conv6)\n",
    "\n",
    "up7 = concatenate([Conv2DTranspose(128, (2, 2), strides=(2, 2), padding='same')(conv6), conv3], axis=3)\n",
    "conv7 = Conv2D(128, (3, 3), activation='relu', padding='same')(up7)\n",
    "conv7 = Conv2D(128, (3, 3), activation='relu', padding='same')(conv7)\n",
    "\n",
    "up8 = concatenate([Conv2DTranspose(64, (2, 2), strides=(2, 2), padding='same')(conv7), conv2], axis=3)\n",
    "conv8 = Conv2D(64, (3, 3), activation='relu', padding='same')(up8)\n",
    "conv8 = Conv2D(64, (3, 3), activation='relu', padding='same')(conv8)\n",
    "\n",
    "up9 = concatenate([Conv2DTranspose(32, (2, 2), strides=(2, 2), padding='same')(conv8), conv1], axis=3)\n",
    "conv9 = Conv2D(32, (3, 3), activation='relu', padding='same')(up9)\n",
    "conv9 = Conv2D(32, (3, 3), activation='relu', padding='same')(conv9)\n",
    "\n",
    "conv10 = Conv2D(1, (1, 1), activation='sigmoid')(conv9)\n",
    "\n",
    "model = Model(inputs=[inputs], outputs=[conv10])"
   ]
  },
  {
   "cell_type": "code",
   "execution_count": 53,
   "metadata": {},
   "outputs": [
    {
     "name": "stdout",
     "output_type": "stream",
     "text": [
      "____________________________________________________________________________________________________\n",
      "Layer (type)                     Output Shape          Param #     Connected to                     \n",
      "====================================================================================================\n",
      "input_12 (InputLayer)            (None, 64, 64, 1)     0                                            \n",
      "____________________________________________________________________________________________________\n",
      "conv2d_174 (Conv2D)              (None, 64, 64, 32)    320         input_12[0][0]                   \n",
      "____________________________________________________________________________________________________\n",
      "conv2d_175 (Conv2D)              (None, 64, 64, 32)    9248        conv2d_174[0][0]                 \n",
      "____________________________________________________________________________________________________\n",
      "batch_normalization_2 (BatchNorm (None, 64, 64, 32)    128         conv2d_175[0][0]                 \n",
      "____________________________________________________________________________________________________\n",
      "max_pooling2d_41 (MaxPooling2D)  (None, 32, 32, 32)    0           batch_normalization_2[0][0]      \n",
      "____________________________________________________________________________________________________\n",
      "conv2d_176 (Conv2D)              (None, 32, 32, 64)    18496       max_pooling2d_41[0][0]           \n",
      "____________________________________________________________________________________________________\n",
      "conv2d_177 (Conv2D)              (None, 32, 32, 64)    36928       conv2d_176[0][0]                 \n",
      "____________________________________________________________________________________________________\n",
      "batch_normalization_3 (BatchNorm (None, 32, 32, 64)    256         conv2d_177[0][0]                 \n",
      "____________________________________________________________________________________________________\n",
      "max_pooling2d_42 (MaxPooling2D)  (None, 16, 16, 64)    0           batch_normalization_3[0][0]      \n",
      "____________________________________________________________________________________________________\n",
      "conv2d_178 (Conv2D)              (None, 16, 16, 128)   73856       max_pooling2d_42[0][0]           \n",
      "____________________________________________________________________________________________________\n",
      "conv2d_179 (Conv2D)              (None, 16, 16, 128)   147584      conv2d_178[0][0]                 \n",
      "____________________________________________________________________________________________________\n",
      "batch_normalization_4 (BatchNorm (None, 16, 16, 128)   512         conv2d_179[0][0]                 \n",
      "____________________________________________________________________________________________________\n",
      "max_pooling2d_43 (MaxPooling2D)  (None, 8, 8, 128)     0           batch_normalization_4[0][0]      \n",
      "____________________________________________________________________________________________________\n",
      "conv2d_180 (Conv2D)              (None, 8, 8, 256)     295168      max_pooling2d_43[0][0]           \n",
      "____________________________________________________________________________________________________\n",
      "conv2d_181 (Conv2D)              (None, 8, 8, 256)     590080      conv2d_180[0][0]                 \n",
      "____________________________________________________________________________________________________\n",
      "batch_normalization_5 (BatchNorm (None, 8, 8, 256)     1024        conv2d_181[0][0]                 \n",
      "____________________________________________________________________________________________________\n",
      "max_pooling2d_44 (MaxPooling2D)  (None, 4, 4, 256)     0           batch_normalization_5[0][0]      \n",
      "____________________________________________________________________________________________________\n",
      "conv2d_182 (Conv2D)              (None, 4, 4, 512)     1180160     max_pooling2d_44[0][0]           \n",
      "____________________________________________________________________________________________________\n",
      "conv2d_183 (Conv2D)              (None, 4, 4, 512)     2359808     conv2d_182[0][0]                 \n",
      "____________________________________________________________________________________________________\n",
      "conv2d_transpose_37 (Conv2DTrans (None, 8, 8, 256)     524544      conv2d_183[0][0]                 \n",
      "____________________________________________________________________________________________________\n",
      "concatenate_37 (Concatenate)     (None, 8, 8, 512)     0           conv2d_transpose_37[0][0]        \n",
      "                                                                   batch_normalization_5[0][0]      \n",
      "____________________________________________________________________________________________________\n",
      "conv2d_184 (Conv2D)              (None, 8, 8, 256)     1179904     concatenate_37[0][0]             \n",
      "____________________________________________________________________________________________________\n",
      "conv2d_185 (Conv2D)              (None, 8, 8, 256)     590080      conv2d_184[0][0]                 \n",
      "____________________________________________________________________________________________________\n",
      "conv2d_transpose_38 (Conv2DTrans (None, 16, 16, 128)   131200      conv2d_185[0][0]                 \n",
      "____________________________________________________________________________________________________\n",
      "concatenate_38 (Concatenate)     (None, 16, 16, 256)   0           conv2d_transpose_38[0][0]        \n",
      "                                                                   batch_normalization_4[0][0]      \n",
      "____________________________________________________________________________________________________\n",
      "conv2d_186 (Conv2D)              (None, 16, 16, 128)   295040      concatenate_38[0][0]             \n",
      "____________________________________________________________________________________________________\n",
      "conv2d_187 (Conv2D)              (None, 16, 16, 128)   147584      conv2d_186[0][0]                 \n",
      "____________________________________________________________________________________________________\n",
      "conv2d_transpose_39 (Conv2DTrans (None, 32, 32, 64)    32832       conv2d_187[0][0]                 \n",
      "____________________________________________________________________________________________________\n",
      "concatenate_39 (Concatenate)     (None, 32, 32, 128)   0           conv2d_transpose_39[0][0]        \n",
      "                                                                   batch_normalization_3[0][0]      \n",
      "____________________________________________________________________________________________________\n",
      "conv2d_188 (Conv2D)              (None, 32, 32, 64)    73792       concatenate_39[0][0]             \n",
      "____________________________________________________________________________________________________\n",
      "conv2d_189 (Conv2D)              (None, 32, 32, 64)    36928       conv2d_188[0][0]                 \n",
      "____________________________________________________________________________________________________\n",
      "conv2d_transpose_40 (Conv2DTrans (None, 64, 64, 32)    8224        conv2d_189[0][0]                 \n",
      "____________________________________________________________________________________________________\n",
      "concatenate_40 (Concatenate)     (None, 64, 64, 64)    0           conv2d_transpose_40[0][0]        \n",
      "                                                                   batch_normalization_2[0][0]      \n",
      "____________________________________________________________________________________________________\n",
      "conv2d_190 (Conv2D)              (None, 64, 64, 32)    18464       concatenate_40[0][0]             \n",
      "____________________________________________________________________________________________________\n",
      "conv2d_191 (Conv2D)              (None, 64, 64, 32)    9248        conv2d_190[0][0]                 \n",
      "____________________________________________________________________________________________________\n",
      "conv2d_192 (Conv2D)              (None, 64, 64, 1)     33          conv2d_191[0][0]                 \n",
      "====================================================================================================\n",
      "Total params: 7,761,441\n",
      "Trainable params: 7,760,481\n",
      "Non-trainable params: 960\n",
      "____________________________________________________________________________________________________\n"
     ]
    }
   ],
   "source": [
    "model.compile(optimizer='adam', loss='binary_crossentropy')\n",
    "model.summary()"
   ]
  },
  {
   "cell_type": "code",
   "execution_count": null,
   "metadata": {
    "scrolled": true
   },
   "outputs": [
    {
     "name": "stdout",
     "output_type": "stream",
     "text": [
      "Train on 5071 samples, validate on 564 samples\n",
      "Epoch 1/50\n",
      "1568/5071 [========>.....................] - ETA: 586s - loss: 0.0702"
     ]
    }
   ],
   "source": [
    "earlystopper = EarlyStopping(patience=5, verbose=1)\n",
    "checkpointer = ModelCheckpoint('model-dsbowl2018-1.h5', verbose=1, save_best_only=True)\n",
    "results = model.fit(images, masks, validation_split=0.1, batch_size=16, epochs=50, \n",
    "                    callbacks=[earlystopper, checkpointer])"
   ]
  },
  {
   "cell_type": "code",
   "execution_count": null,
   "metadata": {
    "scrolled": true
   },
   "outputs": [],
   "source": [
    "predicted_masks=model.predict(test)"
   ]
  },
  {
   "cell_type": "code",
   "execution_count": null,
   "metadata": {},
   "outputs": [],
   "source": [
    "plt.imshow(predicted_masks[0])"
   ]
  }
 ],
 "metadata": {
  "kernelspec": {
   "display_name": "Python 3",
   "language": "python",
   "name": "python3"
  },
  "language_info": {
   "codemirror_mode": {
    "name": "ipython",
    "version": 3
   },
   "file_extension": ".py",
   "mimetype": "text/x-python",
   "name": "python",
   "nbconvert_exporter": "python",
   "pygments_lexer": "ipython3",
   "version": "3.7.6"
  }
 },
 "nbformat": 4,
 "nbformat_minor": 4
}
